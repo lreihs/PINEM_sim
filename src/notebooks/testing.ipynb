{
 "cells": [
  {
   "cell_type": "code",
   "execution_count": 1,
   "metadata": {},
   "outputs": [],
   "source": [
    "import numpy as np\n",
    "import matplotlib.pyplot as plt\n",
    "import os\n",
    "import sys\n",
    "sys.path.append(os.path.abspath('../../src'))\n",
    "from functions import *\n",
    "from matplotlib.colors import Normalize\n",
    "%matplotlib widget"
   ]
  },
  {
   "cell_type": "code",
   "execution_count": 2,
   "metadata": {},
   "outputs": [
    {
     "ename": "TypeError",
     "evalue": "'numpy.ndarray' object is not callable",
     "output_type": "error",
     "traceback": [
      "\u001b[0;31m---------------------------------------------------------------------------\u001b[0m",
      "\u001b[0;31mTypeError\u001b[0m                                 Traceback (most recent call last)",
      "Cell \u001b[0;32mIn[2], line 10\u001b[0m\n\u001b[1;32m      7\u001b[0m T, L \u001b[38;5;241m=\u001b[39m np\u001b[38;5;241m.\u001b[39mmeshgrid(t, Ls)\n\u001b[1;32m      9\u001b[0m \u001b[38;5;66;03m# Calculate density values\u001b[39;00m\n\u001b[0;32m---> 10\u001b[0m density \u001b[38;5;241m=\u001b[39m np\u001b[38;5;241m.\u001b[39marray([\u001b[43melectron_density_tsarev\u001b[49m\u001b[43m(\u001b[49m\u001b[43mtD\u001b[49m\u001b[43m,\u001b[49m\u001b[43m \u001b[49m\u001b[43ml\u001b[49m\u001b[43m)\u001b[49m \u001b[38;5;28;01mfor\u001b[39;00m l \u001b[38;5;129;01min\u001b[39;00m Ls])\n\u001b[1;32m     12\u001b[0m \u001b[38;5;66;03m# Plotting\u001b[39;00m\n\u001b[1;32m     13\u001b[0m norm \u001b[38;5;241m=\u001b[39m Normalize(vmin\u001b[38;5;241m=\u001b[39mdensity\u001b[38;5;241m.\u001b[39mmin(), vmax\u001b[38;5;241m=\u001b[39mdensity\u001b[38;5;241m.\u001b[39mmax())\n",
      "File \u001b[0;32m~/EPFL/Master/MA2/LUMES/PINEM_sim/src/functions.py:34\u001b[0m, in \u001b[0;36melectron_density_tsarev\u001b[0;34m(tD, L)\u001b[0m\n\u001b[1;32m     33\u001b[0m \u001b[38;5;28;01mdef\u001b[39;00m \u001b[38;5;21melectron_density_tsarev\u001b[39m(tD, L):\n\u001b[0;32m---> 34\u001b[0m     \u001b[38;5;28;01mreturn\u001b[39;00m np\u001b[38;5;241m.\u001b[39mabs(\u001b[43mpsiL_z\u001b[49m\u001b[43m(\u001b[49m\u001b[43mtD\u001b[49m\u001b[43m,\u001b[49m\u001b[43m \u001b[49m\u001b[43mL\u001b[49m\u001b[43m)\u001b[49m)\u001b[38;5;241m*\u001b[39m\u001b[38;5;241m*\u001b[39m\u001b[38;5;241m2\u001b[39m\n",
      "File \u001b[0;32m~/EPFL/Master/MA2/LUMES/PINEM_sim/src/functions.py:31\u001b[0m, in \u001b[0;36mpsiL_z\u001b[0;34m(tD, L)\u001b[0m\n\u001b[1;32m     30\u001b[0m \u001b[38;5;28;01mdef\u001b[39;00m \u001b[38;5;21mpsiL_z\u001b[39m(tD, L):\n\u001b[0;32m---> 31\u001b[0m     \u001b[38;5;28;01mreturn\u001b[39;00m np\u001b[38;5;241m.\u001b[39mfft\u001b[38;5;241m.\u001b[39mifft(\u001b[43mpsiL_k\u001b[49m\u001b[43m(\u001b[49m\u001b[43mtD\u001b[49m\u001b[43m,\u001b[49m\u001b[43m \u001b[49m\u001b[43mL\u001b[49m\u001b[43m)\u001b[49m)\n",
      "File \u001b[0;32m~/EPFL/Master/MA2/LUMES/PINEM_sim/src/functions.py:27\u001b[0m, in \u001b[0;36mpsiL_k\u001b[0;34m(tD, L)\u001b[0m\n\u001b[1;32m     26\u001b[0m \u001b[38;5;28;01mdef\u001b[39;00m \u001b[38;5;21mpsiL_k\u001b[39m(tD, L):\n\u001b[0;32m---> 27\u001b[0m     E\u001b[38;5;241m=\u001b[39mhbar\u001b[38;5;241m*\u001b[39m\u001b[43mk\u001b[49m\u001b[43m(\u001b[49m\u001b[43m)\u001b[49m\u001b[38;5;241m*\u001b[39mv0\n\u001b[1;32m     28\u001b[0m     \u001b[38;5;28;01mreturn\u001b[39;00m psi1_k(tD)\u001b[38;5;241m*\u001b[39mnp\u001b[38;5;241m.\u001b[39mexp(\u001b[38;5;241m-\u001b[39m\u001b[38;5;241m1\u001b[39mj\u001b[38;5;241m*\u001b[39mnp\u001b[38;5;241m.\u001b[39mpi\u001b[38;5;241m*\u001b[39mE\u001b[38;5;241m*\u001b[39m\u001b[38;5;241m*\u001b[39m\u001b[38;5;241m2\u001b[39m\u001b[38;5;241m/\u001b[39m(hbar\u001b[38;5;241m*\u001b[39mw_opt)\u001b[38;5;241m*\u001b[39m\u001b[38;5;241m*\u001b[39m\u001b[38;5;241m2\u001b[39m\u001b[38;5;241m*\u001b[39mL\u001b[38;5;241m/\u001b[39mLQR)\n",
      "\u001b[0;31mTypeError\u001b[0m: 'numpy.ndarray' object is not callable"
     ]
    }
   ],
   "source": [
    "tD=1*10**-13\n",
    "ratios = np.linspace(0, 2,20)\n",
    "Ls = ratios*LQR\n",
    "t = z/v0\n",
    "\n",
    "# Create a mesh grid\n",
    "T, L = np.meshgrid(t, Ls)\n",
    "\n",
    "# Calculate density values\n",
    "density = np.array([electron_density(tD, l) for l in Ls])\n",
    "\n",
    "# Plotting\n",
    "norm = Normalize(vmin=density.min(), vmax=density.max())\n",
    "\n",
    "plt.figure(figsize=(10, 8))\n",
    "plt.contourf(T, L, density, cmap='magma_r', levels=20, norm=norm)  # You can choose a different colormap\n",
    "plt.colorbar(label='Electron density')\n",
    "plt.xlabel('Time (s)')\n",
    "plt.ylabel('Propagation distance')\n",
    "plt.xlim([1.5*10**-5, 2*10**-5])\n",
    "plt.show()"
   ]
  },
  {
   "cell_type": "markdown",
   "metadata": {},
   "source": []
  },
  {
   "cell_type": "code",
   "execution_count": null,
   "metadata": {},
   "outputs": [],
   "source": []
  }
 ],
 "metadata": {
  "kernelspec": {
   "display_name": "Python 3",
   "language": "python",
   "name": "python3"
  },
  "language_info": {
   "codemirror_mode": {
    "name": "ipython",
    "version": 3
   },
   "file_extension": ".py",
   "mimetype": "text/x-python",
   "name": "python",
   "nbconvert_exporter": "python",
   "pygments_lexer": "ipython3",
   "version": "3.12.1"
  }
 },
 "nbformat": 4,
 "nbformat_minor": 2
}
